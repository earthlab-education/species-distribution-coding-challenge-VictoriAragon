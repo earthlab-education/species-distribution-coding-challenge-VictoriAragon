{
  "cells": [
    {
      "cell_type": "markdown",
      "id": "3cba5616-2fbb-4b00-81fd-de83b5537b75",
      "metadata": {},
      "source": [
        "# STEP 5: Plot the Veery observations by month\n",
        "\n",
        "First thing first – let’s load your stored variables and import\n",
        "libraries."
      ]
    },
    {
      "cell_type": "code",
      "execution_count": 9,
      "id": "9ce8bde4",
      "metadata": {},
      "outputs": [],
      "source": [
        "%store -r"
      ]
    },
    {
      "cell_type": "markdown",
      "id": "e0c8ea75-c0a5-4023-b201-58a2b54a58b6",
      "metadata": {},
      "source": [
        "<link rel=\"stylesheet\" type=\"text/css\" href=\"./assets/styles.css\"><div class=\"callout callout-style-default callout-titled callout-task\"><div class=\"callout-header\"><div class=\"callout-icon-container\"><i class=\"callout-icon\"></i></div><div class=\"callout-title-container flex-fill\">Try It: Import packages</div></div><div class=\"callout-body-container callout-body\"><p>In the imports cell, we’ve included some packages that you will need.\n",
        "Add imports for packages that will help you:</p>\n",
        "<ol type=\"1\">\n",
        "<li>Make interactive maps with vector data</li>\n",
        "</ol></div></div>"
      ]
    },
    {
      "cell_type": "code",
      "execution_count": 15,
      "id": "cc212b7d",
      "metadata": {
        "highlight": true
      },
      "outputs": [],
      "source": [
        "# Get month names\n",
        "import calendar\n",
        "\n",
        "# Libraries for Dynamic mapping\n",
        "import cartopy.crs as ccrs\n",
        "import panel as pn\n",
        "import pandas as pd\n",
        "import geopandas as gpd\n",
        "import hvplot.pandas\n"
      ]
    },
    {
      "cell_type": "markdown",
      "id": "a1a7727b-b7f7-4768-9c39-2058de7226fc",
      "metadata": {},
      "source": [
        "### Create a simplified `GeoDataFrame` for plotting\n",
        "\n",
        "Plotting larger files can be time consuming. The code below will\n",
        "streamline plotting with `hvplot` by simplifying the geometry,\n",
        "projecting it to a Mercator projection that is compatible with\n",
        "`geoviews`, and cropping off areas in the Arctic.\n",
        "\n",
        "<link rel=\"stylesheet\" type=\"text/css\" href=\"./assets/styles.css\"><div class=\"callout callout-style-default callout-titled callout-task\"><div class=\"callout-header\"><div class=\"callout-icon-container\"><i class=\"callout-icon\"></i></div><div class=\"callout-title-container flex-fill\">Try It: Simplify ecoregion data</div></div><div class=\"callout-body-container callout-body\"><p>Download and save ecoregion boundaries from the EPA:</p>\n",
        "<ol type=\"1\">\n",
        "<li>Simplify the ecoregions with <code>.simplify(.05)</code>, and save\n",
        "it back to the <code>geometry</code> column.</li>\n",
        "<li>Change the Coordinate Reference System (CRS) to Mercator with\n",
        "<code>.to_crs(ccrs.Mercator())</code></li>\n",
        "<li>Use the plotting code that is already in the cell to check that the\n",
        "plotting runs quickly (less than a minute) and looks the way you want,\n",
        "making sure to change <code>gdf</code> to YOUR <code>GeoDataFrame</code>\n",
        "name.</li>\n",
        "</ol></div></div>"
      ]
    },
    {
      "cell_type": "code",
      "execution_count": 17,
      "id": "50e71d7d",
      "metadata": {
        "highlight": true
      },
      "outputs": [
        {
          "ename": "ImportError",
          "evalue": "Geographic projection support requires: geoviews.",
          "output_type": "error",
          "traceback": [
            "\u001b[0;31m---------------------------------------------------------------------------\u001b[0m",
            "\u001b[0;31mImportError\u001b[0m                               Traceback (most recent call last)",
            "Cell \u001b[0;32mIn[17], line 9\u001b[0m\n\u001b[1;32m      6\u001b[0m tecoregions_gdf \u001b[38;5;241m=\u001b[39m tecoregions_gdf\u001b[38;5;241m.\u001b[39mto_crs(ccrs\u001b[38;5;241m.\u001b[39mMercator())\n\u001b[1;32m      8\u001b[0m \u001b[38;5;66;03m# Check that the plot runs in a reasonable amount of time\u001b[39;00m\n\u001b[0;32m----> 9\u001b[0m \u001b[43mtecoregions_gdf\u001b[49m\u001b[38;5;241;43m.\u001b[39;49m\u001b[43mhvplot\u001b[49m\u001b[43m(\u001b[49m\u001b[43mgeo\u001b[49m\u001b[38;5;241;43m=\u001b[39;49m\u001b[38;5;28;43;01mTrue\u001b[39;49;00m\u001b[43m,\u001b[49m\u001b[43m \u001b[49m\u001b[43mcrs\u001b[49m\u001b[38;5;241;43m=\u001b[39;49m\u001b[43mccrs\u001b[49m\u001b[38;5;241;43m.\u001b[39;49m\u001b[43mMercator\u001b[49m\u001b[43m(\u001b[49m\u001b[43m)\u001b[49m\u001b[43m)\u001b[49m\n",
            "File \u001b[0;32m/opt/conda/lib/python3.10/site-packages/hvplot/plotting/core.py:92\u001b[0m, in \u001b[0;36mhvPlotBase.__call__\u001b[0;34m(self, x, y, kind, **kwds)\u001b[0m\n\u001b[1;32m     89\u001b[0m         plot \u001b[38;5;241m=\u001b[39m \u001b[38;5;28mself\u001b[39m\u001b[38;5;241m.\u001b[39m_get_converter(x, y, kind, \u001b[38;5;241m*\u001b[39m\u001b[38;5;241m*\u001b[39mkwds)(kind, x, y)\n\u001b[1;32m     90\u001b[0m         \u001b[38;5;28;01mreturn\u001b[39;00m pn\u001b[38;5;241m.\u001b[39mpanel(plot, \u001b[38;5;241m*\u001b[39m\u001b[38;5;241m*\u001b[39mpanel_dict)\n\u001b[0;32m---> 92\u001b[0m \u001b[38;5;28;01mreturn\u001b[39;00m \u001b[38;5;28;43mself\u001b[39;49m\u001b[38;5;241;43m.\u001b[39;49m\u001b[43m_get_converter\u001b[49m\u001b[43m(\u001b[49m\u001b[43mx\u001b[49m\u001b[43m,\u001b[49m\u001b[43m \u001b[49m\u001b[43my\u001b[49m\u001b[43m,\u001b[49m\u001b[43m \u001b[49m\u001b[43mkind\u001b[49m\u001b[43m,\u001b[49m\u001b[43m \u001b[49m\u001b[38;5;241;43m*\u001b[39;49m\u001b[38;5;241;43m*\u001b[39;49m\u001b[43mkwds\u001b[49m\u001b[43m)\u001b[49m(kind, x, y)\n",
            "File \u001b[0;32m/opt/conda/lib/python3.10/site-packages/hvplot/plotting/core.py:99\u001b[0m, in \u001b[0;36mhvPlotBase._get_converter\u001b[0;34m(self, x, y, kind, **kwds)\u001b[0m\n\u001b[1;32m     97\u001b[0m y \u001b[38;5;241m=\u001b[39m y \u001b[38;5;129;01mor\u001b[39;00m params\u001b[38;5;241m.\u001b[39mpop(\u001b[38;5;124m\"\u001b[39m\u001b[38;5;124my\u001b[39m\u001b[38;5;124m\"\u001b[39m, \u001b[38;5;28;01mNone\u001b[39;00m)\n\u001b[1;32m     98\u001b[0m kind \u001b[38;5;241m=\u001b[39m kind \u001b[38;5;129;01mor\u001b[39;00m params\u001b[38;5;241m.\u001b[39mpop(\u001b[38;5;124m\"\u001b[39m\u001b[38;5;124mkind\u001b[39m\u001b[38;5;124m\"\u001b[39m, \u001b[38;5;28;01mNone\u001b[39;00m)\n\u001b[0;32m---> 99\u001b[0m \u001b[38;5;28;01mreturn\u001b[39;00m \u001b[43mHoloViewsConverter\u001b[49m\u001b[43m(\u001b[49m\u001b[38;5;28;43mself\u001b[39;49m\u001b[38;5;241;43m.\u001b[39;49m\u001b[43m_data\u001b[49m\u001b[43m,\u001b[49m\u001b[43m \u001b[49m\u001b[43mx\u001b[49m\u001b[43m,\u001b[49m\u001b[43m \u001b[49m\u001b[43my\u001b[49m\u001b[43m,\u001b[49m\u001b[43m \u001b[49m\u001b[43mkind\u001b[49m\u001b[38;5;241;43m=\u001b[39;49m\u001b[43mkind\u001b[49m\u001b[43m,\u001b[49m\u001b[43m \u001b[49m\u001b[38;5;241;43m*\u001b[39;49m\u001b[38;5;241;43m*\u001b[39;49m\u001b[43mparams\u001b[49m\u001b[43m)\u001b[49m\n",
            "File \u001b[0;32m/opt/conda/lib/python3.10/site-packages/hvplot/converter.py:401\u001b[0m, in \u001b[0;36mHoloViewsConverter.__init__\u001b[0;34m(self, data, x, y, kind, by, use_index, group_label, value_label, backlog, persist, use_dask, crs, fields, groupby, dynamic, grid, legend, rot, title, xlim, ylim, clim, symmetric, logx, logy, loglog, hover, subplots, label, invert, stacked, colorbar, datashade, rasterize, row, col, debug, framewise, aggregator, projection, global_extent, geo, precompute, flip_xaxis, flip_yaxis, dynspread, hover_cols, x_sampling, y_sampling, project, tools, attr_labels, coastline, tiles, sort_date, check_symmetric_max, transforms, stream, cnorm, features, rescale_discrete_levels, **kwds)\u001b[0m\n\u001b[1;32m    399\u001b[0m \u001b[38;5;28mself\u001b[39m\u001b[38;5;241m.\u001b[39mdynamic \u001b[38;5;241m=\u001b[39m dynamic\n\u001b[1;32m    400\u001b[0m \u001b[38;5;28mself\u001b[39m\u001b[38;5;241m.\u001b[39mgeo \u001b[38;5;241m=\u001b[39m \u001b[38;5;28many\u001b[39m([geo, crs, global_extent, projection, project, coastline, features, tiles])\n\u001b[0;32m--> 401\u001b[0m \u001b[38;5;28mself\u001b[39m\u001b[38;5;241m.\u001b[39mcrs \u001b[38;5;241m=\u001b[39m \u001b[38;5;28;43mself\u001b[39;49m\u001b[38;5;241;43m.\u001b[39;49m\u001b[43m_process_crs\u001b[49m\u001b[43m(\u001b[49m\u001b[43mdata\u001b[49m\u001b[43m,\u001b[49m\u001b[43m \u001b[49m\u001b[43mcrs\u001b[49m\u001b[43m)\u001b[49m \u001b[38;5;28;01mif\u001b[39;00m \u001b[38;5;28mself\u001b[39m\u001b[38;5;241m.\u001b[39mgeo \u001b[38;5;28;01melse\u001b[39;00m \u001b[38;5;28;01mNone\u001b[39;00m\n\u001b[1;32m    402\u001b[0m \u001b[38;5;28mself\u001b[39m\u001b[38;5;241m.\u001b[39mproject \u001b[38;5;241m=\u001b[39m project\n\u001b[1;32m    403\u001b[0m \u001b[38;5;28mself\u001b[39m\u001b[38;5;241m.\u001b[39mcoastline \u001b[38;5;241m=\u001b[39m coastline\n",
            "File \u001b[0;32m/opt/conda/lib/python3.10/site-packages/hvplot/converter.py:662\u001b[0m, in \u001b[0;36mHoloViewsConverter._process_crs\u001b[0;34m(self, data, crs)\u001b[0m\n\u001b[1;32m    659\u001b[0m     _crs \u001b[38;5;241m=\u001b[39m \u001b[38;5;28mgetattr\u001b[39m(data, \u001b[38;5;124m'\u001b[39m\u001b[38;5;124mattrs\u001b[39m\u001b[38;5;124m'\u001b[39m, {})\u001b[38;5;241m.\u001b[39mget(crs \u001b[38;5;129;01mor\u001b[39;00m \u001b[38;5;124m'\u001b[39m\u001b[38;5;124mcrs\u001b[39m\u001b[38;5;124m'\u001b[39m, crs)\n\u001b[1;32m    661\u001b[0m \u001b[38;5;28;01mtry\u001b[39;00m:\n\u001b[0;32m--> 662\u001b[0m     \u001b[38;5;28;01mreturn\u001b[39;00m \u001b[43mprocess_crs\u001b[49m\u001b[43m(\u001b[49m\u001b[43m_crs\u001b[49m\u001b[43m)\u001b[49m\n\u001b[1;32m    663\u001b[0m \u001b[38;5;28;01mexcept\u001b[39;00m \u001b[38;5;167;01mValueError\u001b[39;00m:\n\u001b[1;32m    664\u001b[0m     \u001b[38;5;66;03m# only raise error if crs was specified in kwargs\u001b[39;00m\n\u001b[1;32m    665\u001b[0m     \u001b[38;5;28;01mif\u001b[39;00m crs:\n",
            "File \u001b[0;32m/opt/conda/lib/python3.10/site-packages/hvplot/util.py:248\u001b[0m, in \u001b[0;36mprocess_crs\u001b[0;34m(crs)\u001b[0m\n\u001b[1;32m    246\u001b[0m     missing\u001b[38;5;241m.\u001b[39mappend(\u001b[38;5;124m'\u001b[39m\u001b[38;5;124mpyproj\u001b[39m\u001b[38;5;124m'\u001b[39m)\n\u001b[1;32m    247\u001b[0m \u001b[38;5;28;01mif\u001b[39;00m missing:\n\u001b[0;32m--> 248\u001b[0m     \u001b[38;5;28;01mraise\u001b[39;00m \u001b[38;5;167;01mImportError\u001b[39;00m(\u001b[38;5;124mf\u001b[39m\u001b[38;5;124m'\u001b[39m\u001b[38;5;124mGeographic projection support requires: \u001b[39m\u001b[38;5;132;01m{\u001b[39;00m\u001b[38;5;124m\"\u001b[39m\u001b[38;5;124m, \u001b[39m\u001b[38;5;124m\"\u001b[39m\u001b[38;5;241m.\u001b[39mjoin(missing)\u001b[38;5;132;01m}\u001b[39;00m\u001b[38;5;124m.\u001b[39m\u001b[38;5;124m'\u001b[39m)\n\u001b[1;32m    250\u001b[0m \u001b[38;5;28;01mif\u001b[39;00m crs \u001b[38;5;129;01mis\u001b[39;00m \u001b[38;5;28;01mNone\u001b[39;00m:\n\u001b[1;32m    251\u001b[0m     \u001b[38;5;28;01mreturn\u001b[39;00m ccrs\u001b[38;5;241m.\u001b[39mPlateCarree()\n",
            "\u001b[0;31mImportError\u001b[0m: Geographic projection support requires: geoviews."
          ]
        }
      ],
      "source": [
        "# Simplify the geometry to speed up processing\n",
        "tecoregions_gdf.geometry = tecoregions_gdf.simplify(\n",
        "    .05, preserve_topology=False)\n",
        "\n",
        "# Change the CRS to Mercator for mapping\n",
        "tecoregions_gdf = tecoregions_gdf.to_crs(ccrs.Mercator())\n",
        "\n",
        "# Check that the plot runs in a reasonable amount of time\n",
        "tecoregions_gdf.hvplot(geo=True, crs=ccrs.Mercator())"
      ]
    },
    {
      "cell_type": "markdown",
      "id": "5547133a-c8bd-4616-82e8-c90f86b01f31",
      "metadata": {},
      "source": [
        "<link rel=\"stylesheet\" type=\"text/css\" href=\"./assets/styles.css\"><div class=\"callout callout-style-default callout-titled callout-task\"><div class=\"callout-header\"><div class=\"callout-icon-container\"><i class=\"callout-icon\"></i></div><div class=\"callout-title-container flex-fill\">Try It: Map migration over time</div></div><div class=\"callout-body-container callout-body\"><ol type=\"1\">\n",
        "<li>If applicable, replace any variable names with the names you defined\n",
        "previously.</li>\n",
        "<li>Replace <code>column_name_used_for_ecoregion_color</code> and\n",
        "<code>column_name_used_for_slider</code> with the column names you wish\n",
        "to use.</li>\n",
        "<li>Customize your plot with your choice of title, tile source, color\n",
        "map, and size.</li>\n",
        "</ol>\n",
        "<div data-__quarto_custom=\"true\" data-__quarto_custom_type=\"Callout\"\n",
        "data-__quarto_custom_context=\"Block\" data-__quarto_custom_id=\"3\">\n",
        "<div data-__quarto_custom_scaffold=\"true\">\n",
        "\n",
        "</div>\n",
        "<div data-__quarto_custom_scaffold=\"true\">\n",
        "<p>Your plot will probably still change months very slowly in your\n",
        "Jupyter notebook, because it calculates each month’s plot as needed.\n",
        "Open up the saved HTML file to see faster performance!</p>\n",
        "</div>\n",
        "</div></div></div>"
      ]
    },
    {
      "cell_type": "code",
      "execution_count": 21,
      "id": "0bdd7be7",
      "metadata": {
        "highlight": true
      },
      "outputs": [
        {
          "ename": "ImportError",
          "evalue": "Geographic projection support requires: geoviews.",
          "output_type": "error",
          "traceback": [
            "\u001b[0;31m---------------------------------------------------------------------------\u001b[0m",
            "\u001b[0;31mImportError\u001b[0m                               Traceback (most recent call last)",
            "Cell \u001b[0;32mIn[21], line 9\u001b[0m\n\u001b[1;32m      5\u001b[0m xmin, ymin, xmax, ymax \u001b[38;5;241m=\u001b[39m occurrence_gdf\u001b[38;5;241m.\u001b[39mtotal_bounds\n\u001b[1;32m      7\u001b[0m \u001b[38;5;66;03m# Plot occurrence by ecoregion and month\u001b[39;00m\n\u001b[1;32m      8\u001b[0m migration_plot \u001b[38;5;241m=\u001b[39m (\n\u001b[0;32m----> 9\u001b[0m     \u001b[43moccurrence_gdf\u001b[49m\n\u001b[1;32m     10\u001b[0m \u001b[43m    \u001b[49m\u001b[38;5;241;43m.\u001b[39;49m\u001b[43mhvplot\u001b[49m\u001b[43m(\u001b[49m\n\u001b[1;32m     11\u001b[0m \u001b[43m        \u001b[49m\u001b[43mc\u001b[49m\u001b[38;5;241;43m=\u001b[39;49m\u001b[38;5;124;43m'\u001b[39;49m\u001b[38;5;124;43mnorm_occurances\u001b[39;49m\u001b[38;5;124;43m'\u001b[39;49m\u001b[43m,\u001b[49m\n\u001b[1;32m     12\u001b[0m \u001b[43m        \u001b[49m\u001b[43mgroupby\u001b[49m\u001b[38;5;241;43m=\u001b[39;49m\u001b[38;5;124;43m'\u001b[39;49m\u001b[38;5;124;43mmonth\u001b[39;49m\u001b[38;5;124;43m'\u001b[39;49m\u001b[43m,\u001b[49m\n\u001b[1;32m     13\u001b[0m \u001b[43m        \u001b[49m\u001b[38;5;66;43;03m# Use background tiles\u001b[39;49;00m\n\u001b[1;32m     14\u001b[0m \u001b[43m        \u001b[49m\u001b[43mgeo\u001b[49m\u001b[38;5;241;43m=\u001b[39;49m\u001b[38;5;28;43;01mTrue\u001b[39;49;00m\u001b[43m,\u001b[49m\u001b[43m \u001b[49m\u001b[43mcrs\u001b[49m\u001b[38;5;241;43m=\u001b[39;49m\u001b[43mccrs\u001b[49m\u001b[38;5;241;43m.\u001b[39;49m\u001b[43mMercator\u001b[49m\u001b[43m(\u001b[49m\u001b[43m)\u001b[49m\u001b[43m,\u001b[49m\u001b[43m \u001b[49m\u001b[43mtiles\u001b[49m\u001b[38;5;241;43m=\u001b[39;49m\u001b[38;5;124;43m'\u001b[39;49m\u001b[38;5;124;43mCartoLight\u001b[39;49m\u001b[38;5;124;43m'\u001b[39;49m\u001b[43m,\u001b[49m\n\u001b[1;32m     15\u001b[0m \u001b[43m        \u001b[49m\u001b[43mtitle\u001b[49m\u001b[38;5;241;43m=\u001b[39;49m\u001b[38;5;124;43m\"\u001b[39;49m\u001b[38;5;124;43mYour Title Here\u001b[39;49m\u001b[38;5;124;43m\"\u001b[39;49m\u001b[43m,\u001b[49m\n\u001b[1;32m     16\u001b[0m \u001b[43m        \u001b[49m\u001b[43mxlim\u001b[49m\u001b[38;5;241;43m=\u001b[39;49m\u001b[43m(\u001b[49m\u001b[43mxmin\u001b[49m\u001b[43m,\u001b[49m\u001b[43m \u001b[49m\u001b[43mxmax\u001b[49m\u001b[43m)\u001b[49m\u001b[43m,\u001b[49m\u001b[43m \u001b[49m\u001b[43mylim\u001b[49m\u001b[38;5;241;43m=\u001b[39;49m\u001b[43m(\u001b[49m\u001b[43mymin\u001b[49m\u001b[43m,\u001b[49m\u001b[43m \u001b[49m\u001b[43mymax\u001b[49m\u001b[43m)\u001b[49m\u001b[43m,\u001b[49m\n\u001b[1;32m     17\u001b[0m \u001b[43m        \u001b[49m\u001b[43mframe_height\u001b[49m\u001b[38;5;241;43m=\u001b[39;49m\u001b[38;5;241;43m600\u001b[39;49m\u001b[43m,\u001b[49m\n\u001b[1;32m     18\u001b[0m \u001b[43m        \u001b[49m\u001b[43mwidget_location\u001b[49m\u001b[38;5;241;43m=\u001b[39;49m\u001b[38;5;124;43m'\u001b[39;49m\u001b[38;5;124;43mbottom\u001b[39;49m\u001b[38;5;124;43m'\u001b[39;49m\n\u001b[1;32m     19\u001b[0m \u001b[43m    \u001b[49m\u001b[43m)\u001b[49m\n\u001b[1;32m     20\u001b[0m )\n\u001b[1;32m     22\u001b[0m \u001b[38;5;66;03m# Save the plot\u001b[39;00m\n\u001b[1;32m     23\u001b[0m migration_plot\u001b[38;5;241m.\u001b[39msave(\u001b[38;5;124m'\u001b[39m\u001b[38;5;124mmigration.html\u001b[39m\u001b[38;5;124m'\u001b[39m, embed\u001b[38;5;241m=\u001b[39m\u001b[38;5;28;01mTrue\u001b[39;00m)\n",
            "File \u001b[0;32m/opt/conda/lib/python3.10/site-packages/hvplot/plotting/core.py:89\u001b[0m, in \u001b[0;36mhvPlotBase.__call__\u001b[0;34m(self, x, y, kind, **kwds)\u001b[0m\n\u001b[1;32m     87\u001b[0m         \u001b[38;5;28;01mreturn\u001b[39;00m pn\u001b[38;5;241m.\u001b[39mpanel(callback)\n\u001b[1;32m     88\u001b[0m     \u001b[38;5;28;01mif\u001b[39;00m panel_dict:\n\u001b[0;32m---> 89\u001b[0m         plot \u001b[38;5;241m=\u001b[39m \u001b[38;5;28;43mself\u001b[39;49m\u001b[38;5;241;43m.\u001b[39;49m\u001b[43m_get_converter\u001b[49m\u001b[43m(\u001b[49m\u001b[43mx\u001b[49m\u001b[43m,\u001b[49m\u001b[43m \u001b[49m\u001b[43my\u001b[49m\u001b[43m,\u001b[49m\u001b[43m \u001b[49m\u001b[43mkind\u001b[49m\u001b[43m,\u001b[49m\u001b[43m \u001b[49m\u001b[38;5;241;43m*\u001b[39;49m\u001b[38;5;241;43m*\u001b[39;49m\u001b[43mkwds\u001b[49m\u001b[43m)\u001b[49m(kind, x, y)\n\u001b[1;32m     90\u001b[0m         \u001b[38;5;28;01mreturn\u001b[39;00m pn\u001b[38;5;241m.\u001b[39mpanel(plot, \u001b[38;5;241m*\u001b[39m\u001b[38;5;241m*\u001b[39mpanel_dict)\n\u001b[1;32m     92\u001b[0m \u001b[38;5;28;01mreturn\u001b[39;00m \u001b[38;5;28mself\u001b[39m\u001b[38;5;241m.\u001b[39m_get_converter(x, y, kind, \u001b[38;5;241m*\u001b[39m\u001b[38;5;241m*\u001b[39mkwds)(kind, x, y)\n",
            "File \u001b[0;32m/opt/conda/lib/python3.10/site-packages/hvplot/plotting/core.py:99\u001b[0m, in \u001b[0;36mhvPlotBase._get_converter\u001b[0;34m(self, x, y, kind, **kwds)\u001b[0m\n\u001b[1;32m     97\u001b[0m y \u001b[38;5;241m=\u001b[39m y \u001b[38;5;129;01mor\u001b[39;00m params\u001b[38;5;241m.\u001b[39mpop(\u001b[38;5;124m\"\u001b[39m\u001b[38;5;124my\u001b[39m\u001b[38;5;124m\"\u001b[39m, \u001b[38;5;28;01mNone\u001b[39;00m)\n\u001b[1;32m     98\u001b[0m kind \u001b[38;5;241m=\u001b[39m kind \u001b[38;5;129;01mor\u001b[39;00m params\u001b[38;5;241m.\u001b[39mpop(\u001b[38;5;124m\"\u001b[39m\u001b[38;5;124mkind\u001b[39m\u001b[38;5;124m\"\u001b[39m, \u001b[38;5;28;01mNone\u001b[39;00m)\n\u001b[0;32m---> 99\u001b[0m \u001b[38;5;28;01mreturn\u001b[39;00m \u001b[43mHoloViewsConverter\u001b[49m\u001b[43m(\u001b[49m\u001b[38;5;28;43mself\u001b[39;49m\u001b[38;5;241;43m.\u001b[39;49m\u001b[43m_data\u001b[49m\u001b[43m,\u001b[49m\u001b[43m \u001b[49m\u001b[43mx\u001b[49m\u001b[43m,\u001b[49m\u001b[43m \u001b[49m\u001b[43my\u001b[49m\u001b[43m,\u001b[49m\u001b[43m \u001b[49m\u001b[43mkind\u001b[49m\u001b[38;5;241;43m=\u001b[39;49m\u001b[43mkind\u001b[49m\u001b[43m,\u001b[49m\u001b[43m \u001b[49m\u001b[38;5;241;43m*\u001b[39;49m\u001b[38;5;241;43m*\u001b[39;49m\u001b[43mparams\u001b[49m\u001b[43m)\u001b[49m\n",
            "File \u001b[0;32m/opt/conda/lib/python3.10/site-packages/hvplot/converter.py:401\u001b[0m, in \u001b[0;36mHoloViewsConverter.__init__\u001b[0;34m(self, data, x, y, kind, by, use_index, group_label, value_label, backlog, persist, use_dask, crs, fields, groupby, dynamic, grid, legend, rot, title, xlim, ylim, clim, symmetric, logx, logy, loglog, hover, subplots, label, invert, stacked, colorbar, datashade, rasterize, row, col, debug, framewise, aggregator, projection, global_extent, geo, precompute, flip_xaxis, flip_yaxis, dynspread, hover_cols, x_sampling, y_sampling, project, tools, attr_labels, coastline, tiles, sort_date, check_symmetric_max, transforms, stream, cnorm, features, rescale_discrete_levels, **kwds)\u001b[0m\n\u001b[1;32m    399\u001b[0m \u001b[38;5;28mself\u001b[39m\u001b[38;5;241m.\u001b[39mdynamic \u001b[38;5;241m=\u001b[39m dynamic\n\u001b[1;32m    400\u001b[0m \u001b[38;5;28mself\u001b[39m\u001b[38;5;241m.\u001b[39mgeo \u001b[38;5;241m=\u001b[39m \u001b[38;5;28many\u001b[39m([geo, crs, global_extent, projection, project, coastline, features, tiles])\n\u001b[0;32m--> 401\u001b[0m \u001b[38;5;28mself\u001b[39m\u001b[38;5;241m.\u001b[39mcrs \u001b[38;5;241m=\u001b[39m \u001b[38;5;28;43mself\u001b[39;49m\u001b[38;5;241;43m.\u001b[39;49m\u001b[43m_process_crs\u001b[49m\u001b[43m(\u001b[49m\u001b[43mdata\u001b[49m\u001b[43m,\u001b[49m\u001b[43m \u001b[49m\u001b[43mcrs\u001b[49m\u001b[43m)\u001b[49m \u001b[38;5;28;01mif\u001b[39;00m \u001b[38;5;28mself\u001b[39m\u001b[38;5;241m.\u001b[39mgeo \u001b[38;5;28;01melse\u001b[39;00m \u001b[38;5;28;01mNone\u001b[39;00m\n\u001b[1;32m    402\u001b[0m \u001b[38;5;28mself\u001b[39m\u001b[38;5;241m.\u001b[39mproject \u001b[38;5;241m=\u001b[39m project\n\u001b[1;32m    403\u001b[0m \u001b[38;5;28mself\u001b[39m\u001b[38;5;241m.\u001b[39mcoastline \u001b[38;5;241m=\u001b[39m coastline\n",
            "File \u001b[0;32m/opt/conda/lib/python3.10/site-packages/hvplot/converter.py:662\u001b[0m, in \u001b[0;36mHoloViewsConverter._process_crs\u001b[0;34m(self, data, crs)\u001b[0m\n\u001b[1;32m    659\u001b[0m     _crs \u001b[38;5;241m=\u001b[39m \u001b[38;5;28mgetattr\u001b[39m(data, \u001b[38;5;124m'\u001b[39m\u001b[38;5;124mattrs\u001b[39m\u001b[38;5;124m'\u001b[39m, {})\u001b[38;5;241m.\u001b[39mget(crs \u001b[38;5;129;01mor\u001b[39;00m \u001b[38;5;124m'\u001b[39m\u001b[38;5;124mcrs\u001b[39m\u001b[38;5;124m'\u001b[39m, crs)\n\u001b[1;32m    661\u001b[0m \u001b[38;5;28;01mtry\u001b[39;00m:\n\u001b[0;32m--> 662\u001b[0m     \u001b[38;5;28;01mreturn\u001b[39;00m \u001b[43mprocess_crs\u001b[49m\u001b[43m(\u001b[49m\u001b[43m_crs\u001b[49m\u001b[43m)\u001b[49m\n\u001b[1;32m    663\u001b[0m \u001b[38;5;28;01mexcept\u001b[39;00m \u001b[38;5;167;01mValueError\u001b[39;00m:\n\u001b[1;32m    664\u001b[0m     \u001b[38;5;66;03m# only raise error if crs was specified in kwargs\u001b[39;00m\n\u001b[1;32m    665\u001b[0m     \u001b[38;5;28;01mif\u001b[39;00m crs:\n",
            "File \u001b[0;32m/opt/conda/lib/python3.10/site-packages/hvplot/util.py:248\u001b[0m, in \u001b[0;36mprocess_crs\u001b[0;34m(crs)\u001b[0m\n\u001b[1;32m    246\u001b[0m     missing\u001b[38;5;241m.\u001b[39mappend(\u001b[38;5;124m'\u001b[39m\u001b[38;5;124mpyproj\u001b[39m\u001b[38;5;124m'\u001b[39m)\n\u001b[1;32m    247\u001b[0m \u001b[38;5;28;01mif\u001b[39;00m missing:\n\u001b[0;32m--> 248\u001b[0m     \u001b[38;5;28;01mraise\u001b[39;00m \u001b[38;5;167;01mImportError\u001b[39;00m(\u001b[38;5;124mf\u001b[39m\u001b[38;5;124m'\u001b[39m\u001b[38;5;124mGeographic projection support requires: \u001b[39m\u001b[38;5;132;01m{\u001b[39;00m\u001b[38;5;124m\"\u001b[39m\u001b[38;5;124m, \u001b[39m\u001b[38;5;124m\"\u001b[39m\u001b[38;5;241m.\u001b[39mjoin(missing)\u001b[38;5;132;01m}\u001b[39;00m\u001b[38;5;124m.\u001b[39m\u001b[38;5;124m'\u001b[39m)\n\u001b[1;32m    250\u001b[0m \u001b[38;5;28;01mif\u001b[39;00m crs \u001b[38;5;129;01mis\u001b[39;00m \u001b[38;5;28;01mNone\u001b[39;00m:\n\u001b[1;32m    251\u001b[0m     \u001b[38;5;28;01mreturn\u001b[39;00m ccrs\u001b[38;5;241m.\u001b[39mPlateCarree()\n",
            "\u001b[0;31mImportError\u001b[0m: Geographic projection support requires: geoviews."
          ]
        }
      ],
      "source": [
        "# Join the occurrences with the plotting GeoDataFrame\n",
        "occurrence_gdf = tecoregions_gdf.join(occurrence_df)\n",
        "\n",
        "# Get the plot bounds so they don't change with the slider\n",
        "xmin, ymin, xmax, ymax = occurrence_gdf.total_bounds\n",
        "\n",
        "# Plot occurrence by ecoregion and month\n",
        "migration_plot = (\n",
        "    occurrence_gdf\n",
        "    .hvplot(\n",
        "        c='norm_occurances',\n",
        "        groupby='month',\n",
        "        # Use background tiles\n",
        "        geo=True, crs=ccrs.Mercator(), tiles='CartoLight',\n",
        "        title=\"Your Ti Here\",\n",
        "        xlim=(xmin, xmax), ylim=(ymin, ymax),\n",
        "        frame_height=600,\n",
        "        widget_location='bottom'\n",
        "    )\n",
        ")\n",
        "\n",
        "# Save the plot\n",
        "migration_plot.save('migration.html', embed=True)\n",
        "\n",
        "# Show the plot\n",
        "migration_plot"
      ]
    },
    {
      "cell_type": "markdown",
      "id": "97593f63-5d62-4557-820a-a8210f45c7a4",
      "metadata": {},
      "source": [
        "<link rel=\"stylesheet\" type=\"text/css\" href=\"./assets/styles.css\"><div class=\"callout callout-style-default callout-titled callout-extra\"><div class=\"callout-header\"><div class=\"callout-icon-container\"><i class=\"callout-icon\"></i></div><div class=\"callout-title-container flex-fill\">Looking for an Extra Challenge?: Fix the month labels</div></div><div class=\"callout-body-container callout-body\"><p>Notice that the <code>month</code> slider displays numbers instead of\n",
        "the month name. Use <code>pn.widgets.DiscreteSlider()</code> with the\n",
        "<code>options=</code> parameter set to give the months names. You might\n",
        "want to try asking ChatGPT how to do this, or look at the documentation\n",
        "for <code>pn.widgets.DiscreteSlider()</code>. This is pretty tricky!</p></div></div>"
      ]
    }
  ],
  "metadata": {
    "kernelspec": {
      "display_name": "base",
      "language": "python",
      "name": "python3"
    },
    "language_info": {
      "codemirror_mode": {
        "name": "ipython",
        "version": 3
      },
      "file_extension": ".py",
      "mimetype": "text/x-python",
      "name": "python",
      "nbconvert_exporter": "python",
      "pygments_lexer": "ipython3",
      "version": "3.10.11"
    }
  },
  "nbformat": 4,
  "nbformat_minor": 5
}
