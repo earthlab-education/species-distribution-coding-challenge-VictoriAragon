{
 "cells": [
  {
   "cell_type": "code",
   "execution_count": null,
   "metadata": {
    "vscode": {
     "languageId": "plaintext"
    }
   },
   "outputs": [],
   "source": [
    "#Title\n",
    "##species description\n",
    "why did you choose this species? is there any relavent information?\n",
    "#info on what makes the species interesting\n",
    "# data description\n",
    "#ecoregions\n",
    "#gbif\n",
    "#metadata\n",
    "#citiations\n",
    "GBIF.org (14 October 2024) GBIF Occurrence Download https://doi.org/10.15468/dl.f7dtqz \n",
    "\n",
    "#methods description\n",
    "Normalization, why is it necessary, how did you do it?\n",
    "\n",
    "We normalized by ecoregion sampling effort by month samples, area\n",
    "\n",
    "<emded type=\"text/html\" src=\"mycrohizzal-fungi.html\" width=\"600\" height=\"600\">\n",
    "\n",
    "#plot headline\n",
    "\n",
    "plot descr, discussion, context"
   ]
  }
 ],
 "metadata": {
  "language_info": {
   "name": "python"
  }
 },
 "nbformat": 4,
 "nbformat_minor": 2
}
